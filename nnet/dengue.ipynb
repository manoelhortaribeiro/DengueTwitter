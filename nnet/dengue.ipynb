{
 "cells": [
  {
   "cell_type": "code",
   "execution_count": 1,
   "metadata": {
    "collapsed": false
   },
   "outputs": [
    {
     "name": "stdout",
     "output_type": "stream",
     "text": [
      "/home/manoelribeiro/PycharmProjects/GeoDiseaseTwitter\n"
     ]
    },
    {
     "name": "stderr",
     "output_type": "stream",
     "text": [
      "Using TensorFlow backend.\n"
     ]
    }
   ],
   "source": [
    "%cd /home/manoelribeiro/PycharmProjects/GeoDiseaseTwitter/\n",
    "from sklearn.metrics import classification_report\n",
    "from nnet.models.char_cnn_zhang import CharCNNZhang\n",
    "from nnet.models.char_cnn_kim import CharCNNKim\n",
    "from nnet.models.char_tcn import CharTCN\n",
    "from keras.models import load_model\n",
    "from nnet.data_utils import Data\n",
    "import numpy as np\n",
    "import json"
   ]
  },
  {
   "cell_type": "code",
   "execution_count": null,
   "metadata": {},
   "outputs": [],
   "source": [
    "values = [\"Campaign\", \"Personal\", \"Info.\", \"Opinion\", \"Joke\"]\n",
    "nclasses = 5\n",
    "model_name = \"kim\""
   ]
  },
  {
   "cell_type": "markdown",
   "metadata": {},
   "source": [
    "# Train"
   ]
  },
  {
   "cell_type": "code",
   "execution_count": null,
   "metadata": {},
   "outputs": [],
   "source": [
    "# Load configurations\n",
    "config = json.load(open(\"./nnet/config_dengue.json\"))\n",
    "\n",
    "# Load training data\n",
    "training_data = Data(data_source=config[\"data\"][\"training_data_source\"], alphabet=config[\"data\"][\"alphabet\"],\n",
    "                     input_size=config[\"data\"][\"input_size\"], num_of_classes=config[\"data\"][\"num_of_classes\"])\n",
    "training_data.load_data()\n",
    "training_inputs, training_labels = training_data.get_all_data()\n",
    "\n",
    "# Load validation data\n",
    "validation_data = Data(data_source=config[\"data\"][\"validation_data_source\"], alphabet=config[\"data\"][\"alphabet\"],\n",
    "                       input_size=config[\"data\"][\"input_size\"], num_of_classes=config[\"data\"][\"num_of_classes\"])\n",
    "validation_data.load_data()\n",
    "validation_inputs, validation_labels = validation_data.get_all_data()\n",
    "\n",
    "# Load model configurations and build model\n",
    "if model_name == \"kim\":\n",
    "    model = CharCNNKim(input_size=config[\"data\"][\"input_size\"], alphabet_size=config[\"data\"][\"alphabet_size\"],\n",
    "                       num_of_classes=config[\"data\"][\"num_of_classes\"],\n",
    "                       **config[\"char_cnn_kim\"])\n",
    "\n",
    "elif model_name == 'tcn':\n",
    "    model = CharTCN(input_size=config[\"data\"][\"input_size\"], alphabet_size=config[\"data\"][\"alphabet_size\"],\n",
    "                    num_of_classes=config[\"data\"][\"num_of_classes\"],\n",
    "                    **config[\"char_tcn\"])\n",
    "\n",
    "elif model_name == \"zhang\":\n",
    "    model = CharCNNZhang(input_size=config[\"data\"][\"input_size\"], alphabet_size=config[\"data\"][\"alphabet_size\"],\n",
    "                         num_of_classes=config[\"data\"][\"num_of_classes\"],\n",
    "                         **config[\"char_cnn_zhang\"])\n",
    "# Train model\n",
    "model.train(training_inputs=training_inputs, training_labels=training_labels,\n",
    "            validation_inputs=validation_inputs, validation_labels=validation_labels,\n",
    "            epochs=config[\"training\"][\"epochs\"], batch_size=config[\"training\"][\"batch_size\"])"
   ]
  },
  {
   "cell_type": "markdown",
   "metadata": {},
   "source": [
    "# Test"
   ]
  },
  {
   "cell_type": "code",
   "execution_count": null,
   "metadata": {},
   "outputs": [],
   "source": [
    "# Test model\n",
    "y_score = model.model.predict(validation_inputs)\n",
    "mask = y_score.max(axis=1,keepdims=1) == y_score\n",
    "y_pred = np.zeros_like(y_score)\n",
    "y_pred[mask] = 1\n",
    "\n",
    "# Print sumary of the imported data\n",
    "print(\"Input Shape\")\n",
    "print(\"-----------\")\n",
    "print(\"Shape: y_true = \" + str(np.shape(validation_labels)))\n",
    "print(\"Shape: y_pred = \" + str(np.shape(y_score)))\n",
    "print(\"--------------------------------------\")\n",
    "print(classification_report(validation_labels, y_pred, target_names=values))"
   ]
  },
  {
   "cell_type": "markdown",
   "metadata": {},
   "source": [
    "---"
   ]
  }
 ],
 "metadata": {
  "git": {
   "suppress_outputs": true
  },
  "kernelspec": {
   "display_name": "neural",
   "language": "python",
   "name": "neural"
  },
  "language_info": {
   "codemirror_mode": {
    "name": "ipython",
    "version": 3
   },
   "file_extension": ".py",
   "mimetype": "text/x-python",
   "name": "python",
   "nbconvert_exporter": "python",
   "pygments_lexer": "ipython3",
   "version": "3.6.6"
  }
 },
 "nbformat": 4,
 "nbformat_minor": 2
}
