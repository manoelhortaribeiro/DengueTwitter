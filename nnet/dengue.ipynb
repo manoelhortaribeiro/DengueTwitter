{
 "cells": [
  {
   "cell_type": "markdown",
   "metadata": {},
   "source": [
    "# Classifying Dengue-Related Tweets with a Neural Network"
   ]
  },
  {
   "cell_type": "code",
   "execution_count": null,
   "metadata": {},
   "outputs": [],
   "source": [
    "%cd /home/manoelribeiro/PycharmProjects/GeoDiseaseTwitter/\n",
    "from sklearn.model_selection import KFold, StratifiedShuffleSplit\n",
    "from sklearn.metrics import classification_report\n",
    "from nnet.models.char_cnn_zhang import CharCNNZhang\n",
    "from nnet.models.char_cnn_kim import CharCNNKim\n",
    "from nnet.models.char_tcn import CharTCN\n",
    "from nnet.data_utils import Data\n",
    "import numpy as np\n",
    "import json"
   ]
  },
  {
   "cell_type": "code",
   "execution_count": null,
   "metadata": {},
   "outputs": [],
   "source": [
    "values = [\"Campaign\", \"Personal\", \"Information\", \"Opinion\", \"Joke\"]\n",
    "nclasses = 5\n",
    "model_name = \"zhang\" # kim # zhang"
   ]
  },
  {
   "cell_type": "code",
   "execution_count": null,
   "metadata": {},
   "outputs": [],
   "source": [
    "# Load configurations\n",
    "config = json.load(open(\"./nnet/dengue.json\"))\n",
    "\n",
    "# Load all data\n",
    "data = Data(data_source=config[\"data\"][\"data_source\"], alphabet=config[\"data\"][\"alphabet\"],\n",
    "                     input_size=config[\"data\"][\"input_size\"], num_of_classes=config[\"data\"][\"num_of_classes\"])\n",
    "data.load_data()\n",
    "inputs, labels = data.get_all_data()\n",
    "\n",
    "# Load model configurations and build model\n",
    "if model_name == \"kim\":\n",
    "    _model = CharCNNKim\n",
    "    name = \"char_cnn_kim\"\n",
    "\n",
    "elif model_name == 'tcn':\n",
    "    _model = CharTCN\n",
    "    name = \"char_tcn\"\n",
    "\n",
    "elif model_name == \"zhang\":\n",
    "    _model = CharCNNZhang\n",
    "    name = \"char_cnn_zhang\""
   ]
  },
  {
   "cell_type": "code",
   "execution_count": null,
   "metadata": {},
   "outputs": [],
   "source": [
    "print(inputs.shape)"
   ]
  },
  {
   "cell_type": "markdown",
   "metadata": {},
   "source": [
    "# Cross Fold Validation"
   ]
  },
  {
   "cell_type": "code",
   "execution_count": null,
   "metadata": {},
   "outputs": [],
   "source": [
    "skf = KFold(n_splits=4, random_state=1, shuffle=True)\n",
    "\n",
    "for train_index, test_index in skf.split(inputs):\n",
    "    \n",
    "    training_inputs, validation_inputs = inputs[train_index], inputs[test_index]\n",
    "    training_labels, validation_labels = labels[train_index], labels[test_index]\n",
    "    \n",
    "    model = _model(input_size=config[\"data\"][\"input_size\"], alphabet_size=config[\"data\"][\"alphabet_size\"],\n",
    "                       num_of_classes=config[\"data\"][\"num_of_classes\"], **config[name])\n",
    "\n",
    "    # Train model\n",
    "    model.train(training_inputs=training_inputs, training_labels=training_labels,\n",
    "                validation_inputs=validation_inputs, validation_labels=validation_labels,\n",
    "                epochs=config[\"training\"][\"epochs\"], batch_size=config[\"training\"][\"batch_size\"])\n",
    "    \n",
    "    # Test model\n",
    "    y_score = model.model.predict(validation_inputs)\n",
    "    mask = y_score.max(axis=1,keepdims=1) == y_score\n",
    "    y_pred = np.zeros_like(y_score)\n",
    "    y_pred[mask] = 1\n",
    "\n",
    "    # Print sumary of the imported data\n",
    "    print(\"Input Shape\")\n",
    "    print(\"-----------\")\n",
    "    print(\"Shape: y_true = \" + str(np.shape(validation_labels)))\n",
    "    print(\"Shape: y_pred = \" + str(np.shape(y_score)))\n",
    "    print(\"--------------------------------------\")\n",
    "    print(classification_report(validation_labels, y_pred, target_names=values))"
   ]
  },
  {
   "cell_type": "markdown",
   "metadata": {},
   "source": [
    "# Train with Entire Data"
   ]
  },
  {
   "cell_type": "code",
   "execution_count": null,
   "metadata": {},
   "outputs": [],
   "source": [
    "sss = StratifiedShuffleSplit(n_splits=1, train_size=0.8, test_size=0.2)\n",
    "\n",
    "for train_index, test_index in sss.split(inputs,labels):\n",
    "\n",
    "    training_inputs, validation_inputs = inputs[train_index], inputs[test_index]\n",
    "    training_labels, validation_labels = labels[train_index], labels[test_index]\n",
    "    \n",
    "    model = _model(input_size=config[\"data\"][\"input_size\"], alphabet_size=config[\"data\"][\"alphabet_size\"],\n",
    "                       num_of_classes=config[\"data\"][\"num_of_classes\"], **config[name])\n",
    "\n",
    "    # Train model\n",
    "    model.train(training_inputs=training_inputs, training_labels=training_labels,\n",
    "                validation_inputs=validation_inputs, validation_labels=validation_labels,\n",
    "                epochs=config[\"training\"][\"epochs\"], batch_size=config[\"training\"][\"batch_size\"])\n",
    "    \n",
    "    # Test model\n",
    "    y_score = model.model.predict(validation_inputs)\n",
    "    mask = y_score.max(axis=1,keepdims=1) == y_score\n",
    "    y_pred = np.zeros_like(y_score)\n",
    "    y_pred[mask] = 1\n",
    "\n",
    "    # Print sumary of the imported data\n",
    "    print(\"Input Shape\")\n",
    "    print(\"-----------\")\n",
    "    print(\"Shape: y_true = \" + str(np.shape(validation_labels)))\n",
    "    print(\"Shape: y_pred = \" + str(np.shape(y_score)))\n",
    "    print(\"--------------------------------------\")\n",
    "    print(classification_report(validation_labels, y_pred, target_names=values))"
   ]
  },
  {
   "cell_type": "markdown",
   "metadata": {},
   "source": [
    "---"
   ]
  }
 ],
 "metadata": {
  "git": {
   "suppress_outputs": true
  },
  "kernelspec": {
   "display_name": "neural",
   "language": "python",
   "name": "neural"
  },
  "language_info": {
   "codemirror_mode": {
    "name": "ipython",
    "version": 3
   },
   "file_extension": ".py",
   "mimetype": "text/x-python",
   "name": "python",
   "nbconvert_exporter": "python",
   "pygments_lexer": "ipython3",
   "version": "3.6.6"
  }
 },
 "nbformat": 4,
 "nbformat_minor": 2
}