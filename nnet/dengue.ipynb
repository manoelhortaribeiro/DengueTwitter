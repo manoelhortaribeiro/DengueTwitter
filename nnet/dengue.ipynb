{
 "cells": [
  {
   "cell_type": "code",
   "execution_count": 1,
   "metadata": {},
   "outputs": [
    {
     "name": "stdout",
     "output_type": "stream",
     "text": [
      "/home/manoelribeiro/PycharmProjects/GeoDiseaseTwitter\n"
     ]
    },
    {
     "name": "stderr",
     "output_type": "stream",
     "text": [
      "Using TensorFlow backend.\n"
     ]
    }
   ],
   "source": [
    "%cd /home/manoelribeiro/PycharmProjects/GeoDiseaseTwitter/\n",
    "from sklearn.metrics import classification_report\n",
    "from nnet.models.char_cnn_zhang import CharCNNZhang\n",
    "from nnet.models.char_cnn_kim import CharCNNKim\n",
    "from nnet.models.char_tcn import CharTCN\n",
    "from keras.models import load_model\n",
    "from nnet.data_utils import Data\n",
    "import numpy as np\n",
    "import json\n"
   ]
  },
  {
   "cell_type": "code",
   "execution_count": 2,
   "metadata": {},
   "outputs": [],
   "source": [
    "values = [\"Campaign\", \"Personal\", \"Info.\", \"Opinion\", \"Joke\"]\n",
    "nclasses = 5\n",
    "model_name = \"kim\""
   ]
  },
  {
   "cell_type": "markdown",
   "metadata": {},
   "source": [
    "# Train"
   ]
  },
  {
   "cell_type": "code",
   "execution_count": 3,
   "metadata": {},
   "outputs": [
    {
     "name": "stdout",
     "output_type": "stream",
     "text": [
      "Data loaded from ./data/dengue_manual/xx01\n",
      "Data loaded from ./data/dengue_manual/xx00\n",
      "__________________________________________________________________________________________________\n",
      "Layer (type)                    Output Shape         Param #     Connected to                     \n",
      "==================================================================================================\n",
      "sent_input (InputLayer)         (None, 200)          0                                            \n",
      "__________________________________________________________________________________________________\n",
      "embedding_1 (Embedding)         (None, 200, 128)     8576        sent_input[0][0]                 \n",
      "__________________________________________________________________________________________________\n",
      "Conv1D_256_10 (Conv1D)          (None, 191, 256)     327936      embedding_1[0][0]                \n",
      "__________________________________________________________________________________________________\n",
      "Conv1D_256_7 (Conv1D)           (None, 194, 256)     229632      embedding_1[0][0]                \n",
      "__________________________________________________________________________________________________\n",
      "Conv1D_256_5 (Conv1D)           (None, 196, 256)     164096      embedding_1[0][0]                \n",
      "__________________________________________________________________________________________________\n",
      "Conv1D_256_3 (Conv1D)           (None, 198, 256)     98560       embedding_1[0][0]                \n",
      "__________________________________________________________________________________________________\n",
      "MaxPoolingOverTime_256_10 (Glob (None, 256)          0           Conv1D_256_10[0][0]              \n",
      "__________________________________________________________________________________________________\n",
      "MaxPoolingOverTime_256_7 (Globa (None, 256)          0           Conv1D_256_7[0][0]               \n",
      "__________________________________________________________________________________________________\n",
      "MaxPoolingOverTime_256_5 (Globa (None, 256)          0           Conv1D_256_5[0][0]               \n",
      "__________________________________________________________________________________________________\n",
      "MaxPoolingOverTime_256_3 (Globa (None, 256)          0           Conv1D_256_3[0][0]               \n",
      "__________________________________________________________________________________________________\n",
      "concatenate_1 (Concatenate)     (None, 1024)         0           MaxPoolingOverTime_256_10[0][0]  \n",
      "                                                                 MaxPoolingOverTime_256_7[0][0]   \n",
      "                                                                 MaxPoolingOverTime_256_5[0][0]   \n",
      "                                                                 MaxPoolingOverTime_256_3[0][0]   \n",
      "__________________________________________________________________________________________________\n",
      "dense_1 (Dense)                 (None, 1024)         1049600     concatenate_1[0][0]              \n",
      "__________________________________________________________________________________________________\n",
      "alpha_dropout_1 (AlphaDropout)  (None, 1024)         0           dense_1[0][0]                    \n",
      "__________________________________________________________________________________________________\n",
      "dense_2 (Dense)                 (None, 1024)         1049600     alpha_dropout_1[0][0]            \n",
      "__________________________________________________________________________________________________\n",
      "alpha_dropout_2 (AlphaDropout)  (None, 1024)         0           dense_2[0][0]                    \n",
      "__________________________________________________________________________________________________\n",
      "dense_3 (Dense)                 (None, 5)            5125        alpha_dropout_2[0][0]            \n",
      "==================================================================================================\n",
      "Total params: 2,933,125\n",
      "Trainable params: 2,933,125\n",
      "Non-trainable params: 0\n",
      "__________________________________________________________________________________________________\n",
      "Training model: \n",
      "Train on 11314 samples, validate on 2799 samples\n",
      "Epoch 1/5000\n",
      " - 11s - loss: 1.1495 - categorical_accuracy: 0.6210 - val_loss: 0.7722 - val_categorical_accuracy: 0.7671\n",
      "Epoch 2/5000\n",
      " - 10s - loss: 0.7198 - categorical_accuracy: 0.7568 - val_loss: 0.7571 - val_categorical_accuracy: 0.7688\n",
      "Epoch 3/5000\n",
      " - 10s - loss: 0.5493 - categorical_accuracy: 0.8077 - val_loss: 0.6839 - val_categorical_accuracy: 0.7999\n",
      "Epoch 4/5000\n",
      " - 10s - loss: 0.4427 - categorical_accuracy: 0.8467 - val_loss: 0.8258 - val_categorical_accuracy: 0.7771\n",
      "Epoch 5/5000\n",
      " - 10s - loss: 0.3610 - categorical_accuracy: 0.8756 - val_loss: 0.7376 - val_categorical_accuracy: 0.8081\n",
      "Epoch 6/5000\n",
      " - 10s - loss: 0.2756 - categorical_accuracy: 0.9062 - val_loss: 0.9947 - val_categorical_accuracy: 0.7671\n",
      "Epoch 7/5000\n",
      " - 10s - loss: 0.1987 - categorical_accuracy: 0.9326 - val_loss: 1.0158 - val_categorical_accuracy: 0.7974\n",
      "Epoch 8/5000\n",
      " - 10s - loss: 0.1807 - categorical_accuracy: 0.9406 - val_loss: 1.1471 - val_categorical_accuracy: 0.8053\n",
      "Epoch 9/5000\n",
      " - 10s - loss: 0.1347 - categorical_accuracy: 0.9577 - val_loss: 1.2699 - val_categorical_accuracy: 0.7831\n",
      "Epoch 10/5000\n",
      " - 11s - loss: 0.1171 - categorical_accuracy: 0.9624 - val_loss: 1.1370 - val_categorical_accuracy: 0.8046\n",
      "Epoch 11/5000\n",
      " - 10s - loss: 0.1016 - categorical_accuracy: 0.9699 - val_loss: 1.1396 - val_categorical_accuracy: 0.7935\n",
      "Epoch 12/5000\n",
      " - 10s - loss: 0.0878 - categorical_accuracy: 0.9753 - val_loss: 1.2149 - val_categorical_accuracy: 0.8006\n"
     ]
    }
   ],
   "source": [
    "# Load configurations\n",
    "config = json.load(open(\"./nnet/config_dengue.json\"))\n",
    "\n",
    "# Load training data\n",
    "training_data = Data(data_source=config[\"data\"][\"training_data_source\"], alphabet=config[\"data\"][\"alphabet\"],\n",
    "                     input_size=config[\"data\"][\"input_size\"], num_of_classes=config[\"data\"][\"num_of_classes\"])\n",
    "training_data.load_data()\n",
    "training_inputs, training_labels = training_data.get_all_data()\n",
    "\n",
    "# Load validation data\n",
    "validation_data = Data(data_source=config[\"data\"][\"validation_data_source\"], alphabet=config[\"data\"][\"alphabet\"],\n",
    "                       input_size=config[\"data\"][\"input_size\"], num_of_classes=config[\"data\"][\"num_of_classes\"])\n",
    "validation_data.load_data()\n",
    "validation_inputs, validation_labels = validation_data.get_all_data()\n",
    "\n",
    "# Load model configurations and build model\n",
    "if model_name == \"kim\":\n",
    "    model = CharCNNKim(input_size=config[\"data\"][\"input_size\"], alphabet_size=config[\"data\"][\"alphabet_size\"],\n",
    "                       num_of_classes=config[\"data\"][\"num_of_classes\"],\n",
    "                       **config[\"char_cnn_kim\"])\n",
    "\n",
    "elif model_name == 'tcn':\n",
    "    model = CharTCN(input_size=config[\"data\"][\"input_size\"], alphabet_size=config[\"data\"][\"alphabet_size\"],\n",
    "                    num_of_classes=config[\"data\"][\"num_of_classes\"],\n",
    "                    **config[\"char_tcn\"])\n",
    "\n",
    "elif model_name == \"zhang\":\n",
    "    model = CharCNNZhang(input_size=config[\"data\"][\"input_size\"], alphabet_size=config[\"data\"][\"alphabet_size\"],\n",
    "                         num_of_classes=config[\"data\"][\"num_of_classes\"],\n",
    "                         **config[\"char_cnn_zhang\"])\n",
    "# Train model\n",
    "model.train(training_inputs=training_inputs, training_labels=training_labels,\n",
    "            validation_inputs=validation_inputs, validation_labels=validation_labels,\n",
    "            epochs=config[\"training\"][\"epochs\"], batch_size=config[\"training\"][\"batch_size\"])\n"
   ]
  },
  {
   "cell_type": "markdown",
   "metadata": {},
   "source": [
    "# Test"
   ]
  },
  {
   "cell_type": "code",
   "execution_count": 4,
   "metadata": {},
   "outputs": [
    {
     "name": "stdout",
     "output_type": "stream",
     "text": [
      "Input Shape\n",
      "-----------\n",
      "Shape: y_true = (2799, 5)\n",
      "Shape: y_pred = (2799, 5)\n",
      "--------------------------------------\n",
      "              precision    recall  f1-score   support\n",
      "\n",
      "    Campaign       0.76      0.44      0.56       208\n",
      "    Personal       0.86      0.74      0.79       591\n",
      "       Info.       0.85      0.92      0.89      1086\n",
      "     Opinion       0.43      0.31      0.36       149\n",
      "        Joke       0.75      0.87      0.80       765\n",
      "\n",
      "   micro avg       0.80      0.80      0.80      2799\n",
      "   macro avg       0.73      0.66      0.68      2799\n",
      "weighted avg       0.80      0.80      0.79      2799\n",
      " samples avg       0.80      0.80      0.80      2799\n",
      "\n"
     ]
    }
   ],
   "source": [
    "# Test model\n",
    "y_score = model.model.predict(validation_inputs)\n",
    "mask = y_score.max(axis=1,keepdims=1) == y_score\n",
    "y_pred = np.zeros_like(y_score)\n",
    "y_pred[mask] = 1\n",
    "\n",
    "# Print sumary of the imported data\n",
    "print(\"Input Shape\")\n",
    "print(\"-----------\")\n",
    "print(\"Shape: y_true = \" + str(np.shape(validation_labels)))\n",
    "print(\"Shape: y_pred = \" + str(np.shape(y_score)))\n",
    "print(\"--------------------------------------\")\n",
    "print(classification_report(validation_labels, y_pred, target_names=values))"
   ]
  },
  {
   "cell_type": "markdown",
   "metadata": {},
   "source": [
    "---"
   ]
  }
 ],
 "metadata": {
  "kernelspec": {
   "display_name": "Neural",
   "language": "python",
   "name": "neural"
  },
  "language_info": {
   "codemirror_mode": {
    "name": "ipython",
    "version": 3
   },
   "file_extension": ".py",
   "mimetype": "text/x-python",
   "name": "python",
   "nbconvert_exporter": "python",
   "pygments_lexer": "ipython3",
   "version": "3.6.7"
  }
 },
 "nbformat": 4,
 "nbformat_minor": 2
}
